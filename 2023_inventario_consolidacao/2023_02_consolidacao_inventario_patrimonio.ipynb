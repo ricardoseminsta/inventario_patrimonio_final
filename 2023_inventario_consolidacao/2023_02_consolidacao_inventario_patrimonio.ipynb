{
 "cells": [
  {
   "cell_type": "code",
   "execution_count": null,
   "id": "d6914f57",
   "metadata": {
    "scrolled": false
   },
   "outputs": [],
   "source": [
    "import pandas as pd\n",
    "from datetime import datetime\n",
    "\n",
    "data_e_hora_atuais = datetime.now()\n",
    "data_e_hora = data_e_hora_atuais.strftime('%Y-%m-%d_%H-%M')\n",
    "\"\"\"priori = pd.read_excel('priori/2023_02_13_anexo_3_rev8_priori.xlsx', sheet_name=6)\n",
    "print(priori.info())\n",
    "priori.to_excel('priori/priori_cafi.xlsx', index=False)\"\"\"\n",
    "\n",
    "priori_cafi = pd.read_excel('priori/priori_cafi.xlsx')\n",
    "priori_cafi = priori_cafi.rename(columns={'Ativo': 'tombo'})\n",
    "print(priori_cafi.info())"
   ]
  },
  {
   "cell_type": "code",
   "execution_count": null,
   "id": "c720f787",
   "metadata": {},
   "outputs": [],
   "source": [
    "suap_cafi = pd.read_excel('suap/2023-02-13_15-21_CAFI_relatorio_patrimonio.xlsx')\n",
    "# print(suap_cafi.info())"
   ]
  },
  {
   "cell_type": "code",
   "execution_count": null,
   "id": "692affb2",
   "metadata": {},
   "outputs": [],
   "source": [
    "base_cafi = pd.merge(suap_cafi, priori_cafi, on='tombo', how='outer', indicator=True, suffixes=('_S', '_P'))\n",
    "display(base_cafi.head())\n",
    "base_cafi.to_clipboard()"
   ]
  },
  {
   "cell_type": "code",
   "execution_count": null,
   "id": "db3a0373",
   "metadata": {
    "scrolled": false
   },
   "outputs": [],
   "source": [
    "cafi_consolidado = base_cafi[['tombo', 'id', 'numero', 'num novo', 'Valor Justo', 'Valor Pesquisa']]\n",
    "desc = []\n",
    "sala = []\n",
    "carga = []\n",
    "dt_entrada = []\n",
    "fornecedor = []\n",
    "valor = []\n",
    "ed = []\n",
    "\n",
    "cols = {\n",
    "    \"Descricao\": \"descricao\",\n",
    "    \"sala_P\" : \"sala_S\",\n",
    "    \"responsavel_atual\": \"carga\",\n",
    "    \"data_entrada\": \"dt_entrada\",\n",
    "    \"fornecedor_entrada\": \"fornecedor\",\n",
    "    \"Valor - R$\": \"valor\",\n",
    "    \"categoria_codigo\": \"ed\"\n",
    "    \n",
    "}\n",
    "\n",
    "for i in range(len(base_cafi)):\n",
    "    if pd.isna(base_cafi['Descricao'][i]):\n",
    "        desc.append(base_cafi['descricao'][i])\n",
    "    else:\n",
    "        desc.append(base_cafi['Descricao'][i])\n",
    "        \n",
    "for i in range(len(base_cafi)):\n",
    "    if pd.isna(base_cafi['sala_P'][i]):\n",
    "        sala.append(base_cafi['sala_S'][i])\n",
    "    else:\n",
    "        sala.append(base_cafi['sala_P'][i])\n",
    "\n",
    "for i in range(len(base_cafi)):\n",
    "    if pd.isna(base_cafi['responsavel_atual'][i]):\n",
    "        carga.append(base_cafi['carga'][i])\n",
    "    else:\n",
    "        carga.append(base_cafi['responsavel_atual'][i])\n",
    "\n",
    "for i in range(len(base_cafi)):\n",
    "    if pd.isna(base_cafi['data_entrada'][i]):\n",
    "        dt_entrada.append(base_cafi['dt_entrada'][i])\n",
    "    else:\n",
    "        dt_entrada.append(base_cafi['data_entrada'][i])\n",
    "        \n",
    "for i in range(len(base_cafi)):\n",
    "    if pd.isna(base_cafi['fornecedor_entrada'][i]):\n",
    "        fornecedor.append(base_cafi['fornecedor'][i])\n",
    "    else:\n",
    "        fornecedor.append(base_cafi['fornecedor_entrada'][i])\n",
    "        \n",
    "for i in range(len(base_cafi)):\n",
    "    if pd.isna(base_cafi['Valor - R$'][i]):\n",
    "        valor.append(base_cafi['valor'][i])\n",
    "    else:\n",
    "        valor.append(base_cafi['Valor - R$'][i])\n",
    "\n",
    "for i in range(len(base_cafi)):\n",
    "    if pd.isna(base_cafi['categoria_codigo'][i]):\n",
    "        ed.append(base_cafi['ed'][i])\n",
    "    else:\n",
    "        ed.append(base_cafi['categoria_codigo'][i])\n",
    "\n",
    "\n",
    "        \n",
    "\n",
    "cafi_consolidado['desc'] = desc\n",
    "cafi_consolidado['sala'] = sala\n",
    "cafi_consolidado['carga'] = carga\n",
    "cafi_consolidado['dt_entrada'] = dt_entrada\n",
    "cafi_consolidado['dt_entrada'] = cafi_consolidado['dt_entrada'].str.replace('/', '-', regex=True)\n",
    "cafi_consolidado['dt_entrada'] = pd.to_datetime(cafi_consolidado['dt_entrada'], infer_datetime_format=True)\n",
    "cafi_consolidado['fornecedor'] = fornecedor\n",
    "cafi_consolidado['valor'] = valor\n",
    "cafi_consolidado['ed'] = ed\n",
    "cafi_consolidado = cafi_consolidado.drop([10429, 10430])\n",
    "\n",
    "cafi_consolidado = cafi_consolidado[['tombo', 'id', 'numero', 'num novo', 'ed', 'desc', 'carga', 'sala', 'dt_entrada', 'valor', 'Valor Justo', 'Valor Pesquisa', 'fornecedor']]\n",
    "cafi_consolidado.to_excel('base_CAFI.xlsx', index=False)"
   ]
  },
  {
   "cell_type": "code",
   "execution_count": null,
   "id": "6b5d619a",
   "metadata": {
    "scrolled": false
   },
   "outputs": [],
   "source": [
    "print(cafi_consolidado.info())\n",
    "# display(cafi_consolidado)\n",
    "cafi_levantamento = pd.read_excel('levantamento/2023_02_15_levantamento_patrimonial_cafi.xlsx')\n",
    "cafi_levantamento = cafi_levantamento.rename(columns={\"Tombo\": \"tombo\"})\n",
    "print(cafi_levantamento.info())"
   ]
  },
  {
   "cell_type": "code",
   "execution_count": null,
   "id": "c2985ec0",
   "metadata": {},
   "outputs": [],
   "source": [
    "cafi_invetario = pd.merge(cafi_consolidado, cafi_levantamento, on='tombo', how='outer', indicator=True)\n",
    "print(cafi_invetario.info())\n",
    "cafi_invetario.to_excel(f'{data_e_hora}_consolidacao_CAFI.xlsx', index=False)"
   ]
  },
  {
   "cell_type": "code",
   "execution_count": null,
   "id": "3d31e92d",
   "metadata": {},
   "outputs": [],
   "source": []
  }
 ],
 "metadata": {
  "kernelspec": {
   "display_name": "Python 3 (ipykernel)",
   "language": "python",
   "name": "python3"
  },
  "language_info": {
   "codemirror_mode": {
    "name": "ipython",
    "version": 3
   },
   "file_extension": ".py",
   "mimetype": "text/x-python",
   "name": "python",
   "nbconvert_exporter": "python",
   "pygments_lexer": "ipython3",
   "version": "3.9.13"
  }
 },
 "nbformat": 4,
 "nbformat_minor": 5
}
