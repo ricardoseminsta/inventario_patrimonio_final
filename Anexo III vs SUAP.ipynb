{
 "cells": [
  {
   "cell_type": "code",
   "execution_count": 1,
   "id": "086d2a3f",
   "metadata": {},
   "outputs": [
    {
     "data": {
      "text/html": [
       "<style>.container { width:100% !important; }</style>"
      ],
      "text/plain": [
       "<IPython.core.display.HTML object>"
      ]
     },
     "metadata": {},
     "output_type": "display_data"
    }
   ],
   "source": [
    "from IPython.core.display import display, HTML\n",
    "display(HTML(\"<style>.container { width:100% !important; }</style>\"))\n"
   ]
  },
  {
   "cell_type": "code",
   "execution_count": 4,
   "id": "21fea31d",
   "metadata": {},
   "outputs": [
    {
     "name": "stdout",
     "output_type": "stream",
     "text": [
      "<class 'pandas.core.frame.DataFrame'>\n",
      "RangeIndex: 8355 entries, 0 to 8354\n",
      "Data columns (total 42 columns):\n",
      " #   Column                                        Non-Null Count  Dtype  \n",
      "---  ------                                        --------------  -----  \n",
      " 0   Unnamed: 0                                    0 non-null      float64\n",
      " 1   id                                            8355 non-null   int64  \n",
      " 2   numero                                        8333 non-null   float64\n",
      " 3   num novo                                      247 non-null    float64\n",
      " 4   Ativo                                         8355 non-null   int64  \n",
      " 5   Descricao                                     8355 non-null   object \n",
      " 6   Estado do bem                                 8355 non-null   object \n",
      " 7   Nome do custo                                 8355 non-null   object \n",
      " 8   Nome Local                                    8355 non-null   object \n",
      " 9   Local                                         8355 non-null   object \n",
      " 10  Responsável                                   0 non-null      float64\n",
      " 11  Status                                        8355 non-null   object \n",
      " 12  categoria_codigo                              8333 non-null   object \n",
      " 13  categoria_nome                                8333 non-null   object \n",
      " 14  conta_contabil_codigo                         8333 non-null   float64\n",
      " 15  conta_contabil                                8333 non-null   object \n",
      " 16  status2                                       8333 non-null   object \n",
      " 17  numeroserie                                   6 non-null      object \n",
      " 18  descricao2                                    8333 non-null   object \n",
      " 19  sala                                          7203 non-null   object \n",
      " 20  sala_predio                                   7203 non-null   object \n",
      " 21  data_entrada                                  8355 non-null   object \n",
      " 22  data_da_carga                                 7903 non-null   object \n",
      " 23  responsavel_atual                             7903 non-null   object \n",
      " 24  resposavel_setor                              7903 non-null   object \n",
      " 25  campus_da_carga                               7903 non-null   object \n",
      " 26  nota_fiscal                                   8209 non-null   object \n",
      " 27  fornecedor_entrada                            8333 non-null   object \n",
      " 28  Valor - R$                                    8355 non-null   float64\n",
      " 29  AAA                                           0 non-null      float64\n",
      " 30  Ano                                           8355 non-null   int64  \n",
      " 31  Valor Residual (5%) - Mercado                 8355 non-null   float64\n",
      " 32  Depreciação Mensal                            8333 non-null   object \n",
      " 33  Depreciação Anual                             0 non-null      float64\n",
      " 34  Amort/Depre. Calculdada Apurada               8355 non-null   object \n",
      " 35  Valor Contábil Líquido Apurado                8355 non-null   float64\n",
      " 36  Taxa Válida MCASP (%)                         8355 non-null   float64\n",
      " 37  Valor residual - Vida útil (Anos) MCASP       8355 non-null   int64  \n",
      " 38  Valor residual - Vida útil (Anos) MCASP - R$  8355 non-null   float64\n",
      " 39  Valor Justo                                   8355 non-null   float64\n",
      " 40  Valor Pesquisa                                8340 non-null   float64\n",
      " 41  Fonte da Pesquisa                             8340 non-null   object \n",
      "dtypes: float64(14), int64(4), object(24)\n",
      "memory usage: 2.7+ MB\n",
      "None\n",
      "<class 'pandas.core.frame.DataFrame'>\n",
      "RangeIndex: 9884 entries, 0 to 9883\n",
      "Data columns (total 20 columns):\n",
      " #   Column                 Non-Null Count  Dtype \n",
      "---  ------                 --------------  ----- \n",
      " 0   Unnamed: 0             9884 non-null   int64 \n",
      " 1   id                     9884 non-null   int64 \n",
      " 2   numero                 9884 non-null   int64 \n",
      " 3   categoria_codigo       9884 non-null   object\n",
      " 4   categoria_nome         9884 non-null   object\n",
      " 5   conta_contabil_codigo  9884 non-null   int64 \n",
      " 6   conta_contabil         9884 non-null   object\n",
      " 7   status                 9884 non-null   object\n",
      " 8   numeroserie            9 non-null      object\n",
      " 9   descricao              9884 non-null   object\n",
      " 10  sala                   8385 non-null   object\n",
      " 11  sala_predio            8385 non-null   object\n",
      " 12  data_entrada           9884 non-null   object\n",
      " 13  data_da_carga          9884 non-null   object\n",
      " 14  responsavel_atual      9884 non-null   object\n",
      " 15  resposavel_setor       9884 non-null   object\n",
      " 16  campus_da_carga        9884 non-null   object\n",
      " 17  nota_fiscal            9843 non-null   object\n",
      " 18  fornecedor_entrada     9884 non-null   object\n",
      " 19  valor                  9884 non-null   object\n",
      "dtypes: int64(4), object(16)\n",
      "memory usage: 1.5+ MB\n",
      "None\n"
     ]
    }
   ],
   "source": [
    "import pandas as pd\n",
    "\n",
    "priori = pd.read_excel('priori/Anexo III rev5 - AFI.xlsx', sheet_name='Afogados')\n",
    "suap = pd.read_excel('suap/CAFI.xlsx')\n",
    "\n",
    "print(priori.info())\n",
    "print(suap.info())"
   ]
  },
  {
   "cell_type": "code",
   "execution_count": null,
   "id": "344eb724",
   "metadata": {},
   "outputs": [],
   "source": []
  }
 ],
 "metadata": {
  "kernelspec": {
   "display_name": "Python 3",
   "language": "python",
   "name": "python3"
  },
  "language_info": {
   "codemirror_mode": {
    "name": "ipython",
    "version": 3
   },
   "file_extension": ".py",
   "mimetype": "text/x-python",
   "name": "python",
   "nbconvert_exporter": "python",
   "pygments_lexer": "ipython3",
   "version": "3.8.8"
  }
 },
 "nbformat": 4,
 "nbformat_minor": 5
}
