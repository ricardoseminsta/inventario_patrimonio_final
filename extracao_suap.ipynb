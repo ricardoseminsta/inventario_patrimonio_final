{
 "cells": [
  {
   "cell_type": "code",
   "execution_count": 35,
   "id": "798a3464",
   "metadata": {},
   "outputs": [
    {
     "data": {
      "text/html": [
       "<style>.container { width:100% !important; }</style>"
      ],
      "text/plain": [
       "<IPython.core.display.HTML object>"
      ]
     },
     "metadata": {},
     "output_type": "display_data"
    }
   ],
   "source": [
    "from IPython.core.display import display, HTML\n",
    "display(HTML(\"<style>.container { width:100% !important; }</style>\"))"
   ]
  },
  {
   "cell_type": "code",
   "execution_count": 36,
   "id": "86ce236c",
   "metadata": {
    "scrolled": true
   },
   "outputs": [
    {
     "data": {
      "text/html": [
       "<div>\n",
       "<style scoped>\n",
       "    .dataframe tbody tr th:only-of-type {\n",
       "        vertical-align: middle;\n",
       "    }\n",
       "\n",
       "    .dataframe tbody tr th {\n",
       "        vertical-align: top;\n",
       "    }\n",
       "\n",
       "    .dataframe thead th {\n",
       "        text-align: right;\n",
       "    }\n",
       "</style>\n",
       "<table border=\"1\" class=\"dataframe\">\n",
       "  <thead>\n",
       "    <tr style=\"text-align: right;\">\n",
       "      <th></th>\n",
       "      <th>login</th>\n",
       "      <th>senha</th>\n",
       "    </tr>\n",
       "  </thead>\n",
       "  <tbody>\n",
       "    <tr>\n",
       "      <th>0</th>\n",
       "      <td>2184579</td>\n",
       "      <td>sis1986%</td>\n",
       "    </tr>\n",
       "    <tr>\n",
       "      <th>1</th>\n",
       "      <td>2409638</td>\n",
       "      <td>920985esp</td>\n",
       "    </tr>\n",
       "  </tbody>\n",
       "</table>\n",
       "</div>"
      ],
      "text/plain": [
       "     login      senha\n",
       "0  2184579   sis1986%\n",
       "1  2409638  920985esp"
      ]
     },
     "metadata": {},
     "output_type": "display_data"
    }
   ],
   "source": [
    "import pandas as pd\n",
    "autentica = pd.read_excel('ls.xlsx')\n",
    "login = str(autentica['login'][0])\n",
    "senha = str(autentica['senha'][0])\n",
    "nome = 'CAFI'\n",
    "\n",
    "display(autentica)"
   ]
  },
  {
   "cell_type": "code",
   "execution_count": 37,
   "id": "aea93d1e",
   "metadata": {},
   "outputs": [],
   "source": [
    "from selenium import webdriver\n",
    "from selenium.webdriver.common.keys import Keys\n",
    "from selenium.webdriver.support.ui import Select\n",
    "from selenium.common.exceptions import NoSuchElementException\n",
    "from selenium.webdriver.support.ui import Select\n",
    "import time\n",
    "\n",
    "def abrir_suap():\n",
    "    \n",
    "    global nav\n",
    "    nav = webdriver.Chrome()\n",
    "    nav.get(\"https://suap.ifpe.edu.br/accounts/login/?next=/\")\n",
    "    # inserindo usuário\n",
    "    nav.find_element_by_xpath('//*[@id=\"id_username\"]').click()\n",
    "    nav.find_element_by_xpath('//*[@id=\"id_username\"]').send_keys(login)\n",
    "\n",
    "    # inserindo senha \n",
    "    nav.find_element_by_xpath('//*[@id=\"id_password\"]').click()\n",
    "    nav.find_element_by_xpath('//*[@id=\"id_password\"]').send_keys(senha)\n",
    "\n",
    "    nav.find_element_by_xpath('//*[@id=\"ok\"]').click()"
   ]
  },
  {
   "cell_type": "code",
   "execution_count": 38,
   "id": "645750d5",
   "metadata": {},
   "outputs": [],
   "source": [
    "def montar_base():\n",
    "    # nav.get('https://suap.ifpe.edu.br/patrimonio/inventario_busca/?page=1&status=&empenho=&empenho=&data_final=&sala=&numero_serie=&numero=&rotulos=&data_inicial=&estado_conservacao=6&elemento_despesa=&valor=&responsavel=&responsavel=&contabil=&fornecedor=&fornecedor=&setor_responsavel=&campus=12&descricao=')\n",
    "    # nav.get('https://suap.ifpe.edu.br/patrimonio/inventario_busca/?page=1&status=&empenho=&empenho=&data_final=&sala=&numero_serie=&numero=33-373551&rotulos=&data_inicial=&estado_conservacao=6&elemento_despesa=&valor=&responsavel=&responsavel=&contabil=&fornecedor=&fornecedor=&setor_responsavel=&campus=12&descricao=')\n",
    "\n",
    "    abrir_suap()\n",
    "    df_tabela = pd.DataFrame()\n",
    "    tabela = []\n",
    "    tombos = []\n",
    "    ele_des = []\n",
    "    descricao = []\n",
    "    cargas = []\n",
    "    c_contabil = []\n",
    "    salas = []\n",
    "    dt_entrada = []\n",
    "    valores = []\n",
    "\n",
    "    try:\n",
    "        pag = 1\n",
    "        saida = True\n",
    "        while saida:\n",
    "\n",
    "            nav.get(f'https://suap.ifpe.edu.br/patrimonio/inventario_busca/?page={pag}&status=&empenho=&empenho=&data_final=&sala=&numero_serie=&numero=&rotulos=&data_inicial=&estado_conservacao=6&elemento_despesa=&valor=&responsavel=&responsavel=&contabil=&fornecedor=&fornecedor=&setor_responsavel=&campus=12&descricao=')\n",
    "\n",
    "    #         condição de parada quando não houver mais a classe row1, pq a tabela ainda é montada, mas sem linhas\n",
    "            celula = nav.find_element_by_class_name('row1')\n",
    "\n",
    "            if celula:\n",
    "\n",
    "    #             Acha a tabela e todos os elementos td\n",
    "                lista = nav.find_element_by_tag_name('table')\n",
    "                td = lista.find_elements_by_tag_name('td')\n",
    "\n",
    "                for i in td:\n",
    "                    tabela.append(i.text)\n",
    "\n",
    "                pag += 1\n",
    "\n",
    "            else:\n",
    "                saida = False\n",
    "\n",
    "    except NoSuchElementException:\n",
    "        print('acabaram as páginas')\n",
    "\n",
    "    #  remove o primeiro elemento ta tabela, informação quebrada    \n",
    "    for excluir in range(0, len(tabela), 1201):\n",
    "        tabela.pop(excluir)\n",
    "\n",
    "    # listas para montar o data frame\n",
    "    for tombo in range(1, len(tabela), 12):\n",
    "        tombos.append(tabela[tombo])\n",
    "\n",
    "    for ed in range(2, len(tabela), 12):\n",
    "        ele_des.append(tabela[ed])\n",
    "\n",
    "    for des in range(3, len(tabela), 12):\n",
    "        descricao.append(tabela[des])\n",
    "\n",
    "    for carga in range(4, len(tabela), 12):\n",
    "        cargas.append(tabela[carga])\n",
    "\n",
    "    for c in range(5, len(tabela), 12):\n",
    "        c_contabil.append(tabela[c])\n",
    "\n",
    "    for sala in range(6, len(tabela), 12):\n",
    "        salas.append(tabela[sala])\n",
    "\n",
    "    for data in range(8, len(tabela), 12):\n",
    "        dt_entrada.append(tabela[data])\n",
    "\n",
    "    for valor in range(11, len(tabela), 12):\n",
    "        valores.append(tabela[valor])\n",
    "\n",
    "\n",
    "\n",
    "    #  montagem do data frame\n",
    "    df_tabela['tombo'] = tombos\n",
    "    df_tabela['tombo'] = df_tabela['tombo'].str[:-6]\n",
    "\n",
    "    df_tabela['ed'] = ele_des\n",
    "\n",
    "    df_tabela['descricao'] = descricao\n",
    "\n",
    "    df_tabela['carga'] = cargas\n",
    "\n",
    "    df_tabela['c_contabil'] = c_contabil\n",
    "\n",
    "    df_tabela['dt_entrada'] = dt_entrada\n",
    "    df_tabela['dt_entrada'] = pd.to_datetime(df_tabela['dt_entrada'])\n",
    "\n",
    "    df_tabela['valor'] = valores\n",
    "    df_tabela['valor'] = df_tabela['valor'].str.replace('.','',regex=True)\n",
    "    df_tabela['valor'] = df_tabela['valor'].str.replace(',','.',regex=True)\n",
    "    df_tabela['valor'] = pd.to_numeric(df_tabela['valor'])\n",
    "    df_tabela['valor'] = df_tabela['valor'].round(2)\n",
    "\n",
    "\n",
    "    df_tabela.to_excel(f'suap/{nome}_relatorio_patrimonio.xlsx', index=False)\n",
    "\n",
    "    display(df_tabela)"
   ]
  },
  {
   "cell_type": "code",
   "execution_count": null,
   "id": "61386a84",
   "metadata": {},
   "outputs": [],
   "source": [
    "montar_base()"
   ]
  },
  {
   "cell_type": "code",
   "execution_count": null,
   "id": "2566f988",
   "metadata": {},
   "outputs": [],
   "source": []
  }
 ],
 "metadata": {
  "kernelspec": {
   "display_name": "Python 3",
   "language": "python",
   "name": "python3"
  },
  "language_info": {
   "codemirror_mode": {
    "name": "ipython",
    "version": 3
   },
   "file_extension": ".py",
   "mimetype": "text/x-python",
   "name": "python",
   "nbconvert_exporter": "python",
   "pygments_lexer": "ipython3",
   "version": "3.8.8"
  }
 },
 "nbformat": 4,
 "nbformat_minor": 5
}
