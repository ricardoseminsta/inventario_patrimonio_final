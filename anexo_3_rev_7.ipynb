{
 "cells": [
  {
   "cell_type": "code",
   "execution_count": null,
   "id": "050cf3c6",
   "metadata": {},
   "outputs": [],
   "source": [
    "import pandas as pd\n",
    "priori7 = pd.read_excel('priori/rev7/anexo_3_rev_7_tratado.xlsx')\n",
    "print(priori7.info())"
   ]
  },
  {
   "cell_type": "code",
   "execution_count": null,
   "id": "8c2ee311",
   "metadata": {},
   "outputs": [],
   "source": [
    "virtual = pd.read_excel('priori/rev7/anexo_3_rev_7_tratado.xlsx', sheet_name=0)\n",
    "cafi = pd.read_excel('priori/rev7/anexo_3_rev_7_tratado.xlsx', sheet_name=1)\n",
    "cbar = pd.read_excel('priori/rev7/anexo_3_rev_7_tratado.xlsx', sheet_name=2)\n",
    "cbja = pd.read_excel('priori/rev7/anexo_3_rev_7_tratado.xlsx', sheet_name=3)\n",
    "cgar = pd.read_excel('priori/rev7/anexo_3_rev_7_tratado.xlsx', sheet_name=4)\n",
    "cpes = pd.read_excel('priori/rev7/anexo_3_rev_7_tratado.xlsx', sheet_name=5)\n",
    "cplt = pd.read_excel('priori/rev7/anexo_3_rev_7_tratado.xlsx', sheet_name=6)\n",
    "reipe = pd.read_excel('priori/rev7/anexo_3_rev_7_tratado.xlsx', sheet_name=7)\n",
    "cabl = pd.read_excel('priori/rev7/anexo_3_rev_7_tratado.xlsx', sheet_name=8)\n",
    "ccsa = pd.read_excel('priori/rev7/anexo_3_rev_7_tratado.xlsx', sheet_name=9)\n",
    "cigr = pd.read_excel('priori/rev7/anexo_3_rev_7_tratado.xlsx', sheet_name=10)\n",
    "cipj = pd.read_excel('priori/rev7/anexo_3_rev_7_tratado.xlsx', sheet_name=11)\n",
    "cjbg = pd.read_excel('priori/rev7/anexo_3_rev_7_tratado.xlsx', sheet_name=12)\n",
    "cprm = pd.read_excel('priori/rev7/anexo_3_rev_7_tratado.xlsx', sheet_name=13)\n",
    "crec = pd.read_excel('priori/rev7/anexo_3_rev_7_tratado.xlsx', sheet_name=14)\n",
    "ccar = pd.read_excel('priori/rev7/anexo_3_rev_7_tratado.xlsx', sheet_name=15)\n",
    "coli = pd.read_excel('priori/rev7/anexo_3_rev_7_tratado.xlsx', sheet_name=16)\n",
    "cvsa = pd.read_excel('priori/rev7/anexo_3_rev_7_tratado.xlsx', sheet_name=17)"
   ]
  },
  {
   "cell_type": "code",
   "execution_count": null,
   "id": "083c8259",
   "metadata": {
    "scrolled": false
   },
   "outputs": [],
   "source": [
    "print(virtual.info())\n",
    "print(cafi.info())\n",
    "print(cbar.info())\n",
    "print(cbja.info())\n",
    "print(cgar.info())\n",
    "print(cpes.info())\n",
    "print(cplt.info())\n",
    "print(reipe.info())\n",
    "print(cabl.info())\n",
    "print(ccsa.info())\n",
    "print(cigr.info())\n",
    "print(cipj.info())\n",
    "print(cjbg.info())\n",
    "print(cprm.info())\n",
    "print(crec.info())\n",
    "print(ccar.info())\n",
    "print(coli.info())\n",
    "print(cvsa.info())"
   ]
  },
  {
   "cell_type": "code",
   "execution_count": null,
   "id": "f3f92865",
   "metadata": {
    "scrolled": false
   },
   "outputs": [],
   "source": [
    "display(virtual.head())\n",
    "display(cafi.head())\n",
    "display(cbar.head())\n",
    "display(cbja.head())\n",
    "display(cgar.head())\n",
    "display(cpes.head())\n",
    "display(cplt.head())\n",
    "display(reipe.head())\n",
    "display(cabl.head())\n",
    "display(ccsa.head())\n",
    "display(cgir.head())\n",
    "display(cipj.head())\n",
    "display(cjbg.head())\n",
    "display(cprm.head())\n",
    "display(crec.head())\n",
    "display(ccar.head())\n",
    "display(coli.head())\n",
    "display(cvsa.head())"
   ]
  },
  {
   "cell_type": "code",
   "execution_count": null,
   "id": "4aac0add",
   "metadata": {},
   "outputs": [],
   "source": [
    "virtual.to_excel('priori/rev7/saida/sheet_0.xlsx')"
   ]
  },
  {
   "cell_type": "code",
   "execution_count": 28,
   "id": "769626cf",
   "metadata": {},
   "outputs": [
    {
     "name": "stdout",
     "output_type": "stream",
     "text": [
      "238\n"
     ]
    }
   ],
   "source": [
    "campi = {'virtual': len(virtual), 'cafi': len(cafi), 'cbar': len(cbar), 'cbja': len(cbja), 'cgar': len(cgar), 'cpes': len(cpes), 'cplt': len(cplt), 'reipe': len(reipe), 'cabl': len(cabl), 'ccsa': len(ccsa) }"
   ]
  },
  {
   "cell_type": "code",
   "execution_count": 29,
   "id": "9e96a857",
   "metadata": {},
   "outputs": [
    {
     "data": {
      "text/plain": [
       "7754"
      ]
     },
     "execution_count": 29,
     "metadata": {},
     "output_type": "execute_result"
    }
   ],
   "source": []
  },
  {
   "cell_type": "code",
   "execution_count": null,
   "id": "580fea9a",
   "metadata": {},
   "outputs": [],
   "source": []
  }
 ],
 "metadata": {
  "kernelspec": {
   "display_name": "Python 3",
   "language": "python",
   "name": "python3"
  },
  "language_info": {
   "codemirror_mode": {
    "name": "ipython",
    "version": 3
   },
   "file_extension": ".py",
   "mimetype": "text/x-python",
   "name": "python",
   "nbconvert_exporter": "python",
   "pygments_lexer": "ipython3",
   "version": "3.8.8"
  }
 },
 "nbformat": 4,
 "nbformat_minor": 5
}
